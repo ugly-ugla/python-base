{
 "cells": [
  {
   "cell_type": "markdown",
   "metadata": {},
   "source": [
    "# Homework 00"
   ]
  },
  {
   "cell_type": "code",
   "execution_count": 1,
   "metadata": {},
   "outputs": [],
   "source": [
    "# До запуска кода перезапустите текущее ядро\n",
    "# Не добавляла проверки пользовательских данных на корректность"
   ]
  },
  {
   "cell_type": "markdown",
   "metadata": {},
   "source": [
    "### 1. Поработайте с переменными, создайте несколько, выведите на экран, запросите у пользователя несколько чисел и строк и сохраните в переменные, выведите на экран."
   ]
  },
  {
   "cell_type": "code",
   "execution_count": 1,
   "metadata": {},
   "outputs": [
    {
     "name": "stdout",
     "output_type": "stream",
     "text": [
      "The name is Strix which age is 356, and the e = 2.718.\n"
     ]
    }
   ],
   "source": [
    "name = 'Strix'      # string\n",
    "age = 356           # int\n",
    "e_num = 2.718       # float\n",
    "\n",
    "print(f'The name is {name} which age is {age}, and the e = {e_num}.')"
   ]
  },
  {
   "cell_type": "code",
   "execution_count": 8,
   "metadata": {},
   "outputs": [
    {
     "name": "stdout",
     "output_type": "stream",
     "text": [
      "Enter your name: Ann\n"
     ]
    }
   ],
   "source": [
    "your_name = input('Enter your name: ')"
   ]
  },
  {
   "cell_type": "code",
   "execution_count": 9,
   "metadata": {},
   "outputs": [
    {
     "name": "stdout",
     "output_type": "stream",
     "text": [
      "Enter your age: 32\n"
     ]
    }
   ],
   "source": [
    "your_age = int(input('Enter your age: '))"
   ]
  },
  {
   "cell_type": "code",
   "execution_count": 10,
   "metadata": {},
   "outputs": [
    {
     "name": "stdout",
     "output_type": "stream",
     "text": [
      "Enter pi: 3.14\n"
     ]
    }
   ],
   "source": [
    "pi_num = float(input('Enter pi: '))"
   ]
  },
  {
   "cell_type": "code",
   "execution_count": 11,
   "metadata": {},
   "outputs": [
    {
     "name": "stdout",
     "output_type": "stream",
     "text": [
      "Your name is Ann, your age is 32, and pi = 3.14\n"
     ]
    }
   ],
   "source": [
    "print(f'Your name is {your_name}, your age is {your_age}, and pi = {pi_num}')"
   ]
  },
  {
   "cell_type": "markdown",
   "metadata": {},
   "source": [
    "### 2. Пользователь вводит время в секундах. Переведите время в часы, минуты и секунды и выведите в формате чч:мм:сс. Используйте форматирование строк."
   ]
  },
  {
   "cell_type": "code",
   "execution_count": null,
   "metadata": {},
   "outputs": [],
   "source": [
    "# можно было бы добавить приведение вывода к единому формату по 2 цифры, нужно ли это здесь?"
   ]
  },
  {
   "cell_type": "code",
   "execution_count": 4,
   "metadata": {},
   "outputs": [
    {
     "name": "stdout",
     "output_type": "stream",
     "text": [
      "Введите количество секунд: 3600\n"
     ]
    }
   ],
   "source": [
    "time = int(input('Введите количество секунд: '))"
   ]
  },
  {
   "cell_type": "code",
   "execution_count": 7,
   "metadata": {},
   "outputs": [
    {
     "name": "stdout",
     "output_type": "stream",
     "text": [
      "Время - 1:0:0\n"
     ]
    }
   ],
   "source": [
    "hours = time // 3600\n",
    "minutes = (time - hours * 3600) // 60\n",
    "seconds = time - (hours * 3600 + minutes * 60)\n",
    "\n",
    "print(f\"Время - {hours}:{minutes}:{seconds}\")"
   ]
  },
  {
   "cell_type": "markdown",
   "metadata": {},
   "source": [
    "### 3. Узнайте у пользователя число n. Найдите сумму чисел n + nn + nnn. Например, пользователь ввёл число 3. Считаем 3 + 33 + 333 = 369."
   ]
  },
  {
   "cell_type": "code",
   "execution_count": 18,
   "metadata": {},
   "outputs": [
    {
     "name": "stdout",
     "output_type": "stream",
     "text": [
      "Введите число от 0 до 9: 3\n"
     ]
    }
   ],
   "source": [
    "n = int(input('Введите число от 0 до 9: '))    # сразу преобразуем строку в инт"
   ]
  },
  {
   "cell_type": "code",
   "execution_count": 19,
   "metadata": {},
   "outputs": [
    {
     "name": "stdout",
     "output_type": "stream",
     "text": [
      "369\n"
     ]
    }
   ],
   "source": [
    "print(n * 3 + n * 20 + n * 100)                # вычисляем и выводим результат"
   ]
  },
  {
   "cell_type": "markdown",
   "metadata": {},
   "source": [
    "### 4. Пользователь вводит целое положительное число. Найдите самую большую цифру в числе. Для решения используйте цикл while и арифметические операции."
   ]
  },
  {
   "cell_type": "code",
   "execution_count": 21,
   "metadata": {},
   "outputs": [
    {
     "name": "stdout",
     "output_type": "stream",
     "text": [
      "Введите целое положительное число: 2534142451256252536474614232001200001203012323241231111111\n"
     ]
    }
   ],
   "source": [
    "num = int(input('Введите целое положительное число: '))"
   ]
  },
  {
   "cell_type": "code",
   "execution_count": 22,
   "metadata": {},
   "outputs": [
    {
     "name": "stdout",
     "output_type": "stream",
     "text": [
      "Самая большая цифра в числе 2534142451256252536474614232001200001203012323241231111111 - 7.\n"
     ]
    }
   ],
   "source": [
    "max = num % 10\n",
    "tmp = num   # чтобы не уничтожить число по ходу действия, используем дополнительную переменную\n",
    "\n",
    "while tmp > 0:\n",
    "    tmp //= 10\n",
    "    if tmp % 10 > max:\n",
    "        max = tmp % 10\n",
    "        \n",
    "print(f'Самая большая цифра в числе {num} - {max}.')"
   ]
  },
  {
   "cell_type": "markdown",
   "metadata": {},
   "source": [
    "### 5. Запросите у пользователя значения выручки и издержек фирмы. Определите, с каким финансовым результатом работает фирма (прибыль — выручка больше издержек, или убыток — издержки больше выручки). Выведите соответствующее сообщение. Если фирма отработала с прибылью, вычислите рентабельность выручки (соотношение прибыли к выручке). Далее запросите численность сотрудников фирмы и определите прибыль фирмы в расчете на одного сотрудника."
   ]
  },
  {
   "cell_type": "code",
   "execution_count": 26,
   "metadata": {},
   "outputs": [
    {
     "name": "stdout",
     "output_type": "stream",
     "text": [
      "Введите значение выручки: 100\n"
     ]
    }
   ],
   "source": [
    "proceed = float(input('Введите значение выручки: '))"
   ]
  },
  {
   "cell_type": "code",
   "execution_count": 27,
   "metadata": {},
   "outputs": [
    {
     "name": "stdout",
     "output_type": "stream",
     "text": [
      "Введите значение издержек: 20\n"
     ]
    }
   ],
   "source": [
    "cost = float(input('Введите значение издержек: '))"
   ]
  },
  {
   "cell_type": "code",
   "execution_count": 28,
   "metadata": {},
   "outputs": [
    {
     "name": "stdout",
     "output_type": "stream",
     "text": [
      "Введите количество сотрудников: 4\n",
      "Прибыль фирмы в расчете на одного сотрудника: 20.00\n",
      "Рентабельность выручки: 80.00%\n"
     ]
    }
   ],
   "source": [
    "if cost < proceed:\n",
    "    people = int(input('Введите количество сотрудников: '))\n",
    "    print(f'Прибыль фирмы в расчете на одного сотрудника: {((proceed - cost) / people):.2f}')\n",
    "    print(f'Рентабельность выручки: {((proceed - cost) / proceed * 100):.2f}%') # приводим к 2 зн после запятой\n",
    "elif cost == proceed:\n",
    "    print('Фирма работает в ноль.')\n",
    "else:\n",
    "    print('Фирма работает в убыток!')"
   ]
  },
  {
   "cell_type": "markdown",
   "metadata": {},
   "source": [
    "### 6. Спортсмен занимается ежедневными пробежками. В первый день его результат составил a километров. Каждый день спортсмен увеличивал результат на 10 % относительно предыдущего. Требуется определить номер дня, на который общий результат спортсмена составить не менее b километров. Программа должна принимать значения параметров a и b и выводить одно натуральное число — номер дня.\n",
    "Например: a = 2, b = 3.\n",
    "Результат:\n",
    "1-й день: 2\n",
    "2-й день: 2,2\n",
    "3-й день: 2,42\n",
    "4-й день: 2,66\n",
    "5-й день: 2,93\n",
    "6-й день: 3,22\n",
    "\n",
    "Ответ: на 6-й день спортсмен достиг результата — не менее 3 км."
   ]
  },
  {
   "cell_type": "code",
   "execution_count": 1,
   "metadata": {},
   "outputs": [
    {
     "name": "stdout",
     "output_type": "stream",
     "text": [
      "Введите результаты первого дня: 20\n"
     ]
    }
   ],
   "source": [
    "a = float(input('Введите результаты первого дня: '))"
   ]
  },
  {
   "cell_type": "code",
   "execution_count": 2,
   "metadata": {},
   "outputs": [
    {
     "name": "stdout",
     "output_type": "stream",
     "text": [
      "Введите желаемое расстояние: 23\n"
     ]
    }
   ],
   "source": [
    "b = float(input('Введите желаемое расстояние: '))"
   ]
  },
  {
   "cell_type": "code",
   "execution_count": 3,
   "metadata": {},
   "outputs": [
    {
     "name": "stdout",
     "output_type": "stream",
     "text": [
      "Ответ: на 3-й день спортсмен достиг результата - не менее 23 км.\n"
     ]
    }
   ],
   "source": [
    "days = 1          # берем счетчик от 1 дня, т.к. это минимум для данной задачи\n",
    "\n",
    "while (a < b):\n",
    "    days += 1\n",
    "    a += a * 0.1\n",
    "    \n",
    "print(f'Ответ: на {days}-й день спортсмен достиг результата - не менее {b:.0f} км.')"
   ]
  }
 ],
 "metadata": {
  "kernelspec": {
   "display_name": "Python 3",
   "language": "python",
   "name": "python3"
  },
  "language_info": {
   "codemirror_mode": {
    "name": "ipython",
    "version": 3
   },
   "file_extension": ".py",
   "mimetype": "text/x-python",
   "name": "python",
   "nbconvert_exporter": "python",
   "pygments_lexer": "ipython3",
   "version": "3.8.5"
  }
 },
 "nbformat": 4,
 "nbformat_minor": 4
}
